{
 "cells": [
  {
   "cell_type": "markdown",
   "metadata": {
    "id": "wN4vmiu1a_oM"
   },
   "source": [
    "# <center>Fraud detection project"
   ]
  },
  {
   "cell_type": "markdown",
   "metadata": {
    "id": "Wdd4tQPBbQt-"
   },
   "source": [
    "## I- Data importation and preparation"
   ]
  },
  {
   "cell_type": "code",
   "execution_count": 1,
   "metadata": {
    "id": "Bnz3eEMX5xQK"
   },
   "outputs": [],
   "source": [
    "# Package to import \n",
    "import matplotlib.pyplot as plt\n",
    "from sklearn.preprocessing import StandardScaler, MinMaxScaler\n",
    "from sklearn.preprocessing import LabelBinarizer\n",
    "import pandas as pd\n",
    "import numpy as np\n",
    "from sklearn.model_selection import train_test_split, StratifiedShuffleSplit, StratifiedKFold\n",
    "import seaborn as sns\n",
    "from sklearn.model_selection import GridSearchCV\n",
    "from pandas.core.common import random_state\n",
    "from sklearn.linear_model import LogisticRegression\n",
    "from sklearn.model_selection import cross_validate, cross_val_predict\n",
    "from sklearn import metrics\n",
    "from datetime import datetime\n",
    "from sklearn.tree import DecisionTreeClassifier\n",
    "from sklearn.ensemble import RandomForestClassifier\n",
    "from pprint import pprint\n",
    "from sklearn.svm import SVC\n",
    "import pickle\n",
    "from os import path\n",
    "# !pip install google"
   ]
  },
  {
   "cell_type": "code",
   "execution_count": 2,
   "metadata": {},
   "outputs": [],
   "source": [
    "# Global variables\n",
    "\n",
    "RANDOM_STATE = 55\n",
    "MODEL_PATH = \"./Models/\"\n",
    "MODEL_EXTENSION = \".sav\"\n",
    "N_SPLITS = 5"
   ]
  },
  {
   "cell_type": "markdown",
   "metadata": {
    "id": "QolVrBMEbgAf"
   },
   "source": [
    "### A- Data importation"
   ]
  },
  {
   "cell_type": "code",
   "execution_count": 3,
   "metadata": {
    "colab": {
     "base_uri": "https://localhost:8080/",
     "height": 456
    },
    "id": "uxUc6pvuZDXm",
    "outputId": "a9843435-8b02-4f75-cfca-b86ae40d76d6"
   },
   "outputs": [
    {
     "data": {
      "text/html": [
       "<div>\n",
       "<style scoped>\n",
       "    .dataframe tbody tr th:only-of-type {\n",
       "        vertical-align: middle;\n",
       "    }\n",
       "\n",
       "    .dataframe tbody tr th {\n",
       "        vertical-align: top;\n",
       "    }\n",
       "\n",
       "    .dataframe thead th {\n",
       "        text-align: right;\n",
       "    }\n",
       "</style>\n",
       "<table border=\"1\" class=\"dataframe\">\n",
       "  <thead>\n",
       "    <tr style=\"text-align: right;\">\n",
       "      <th></th>\n",
       "      <th>time</th>\n",
       "      <th>v1</th>\n",
       "      <th>v2</th>\n",
       "      <th>v3</th>\n",
       "      <th>v4</th>\n",
       "      <th>v5</th>\n",
       "      <th>v6</th>\n",
       "      <th>v7</th>\n",
       "      <th>v8</th>\n",
       "      <th>v9</th>\n",
       "      <th>...</th>\n",
       "      <th>v21</th>\n",
       "      <th>v22</th>\n",
       "      <th>v23</th>\n",
       "      <th>v24</th>\n",
       "      <th>v25</th>\n",
       "      <th>v26</th>\n",
       "      <th>v27</th>\n",
       "      <th>v28</th>\n",
       "      <th>amount</th>\n",
       "      <th>class</th>\n",
       "    </tr>\n",
       "  </thead>\n",
       "  <tbody>\n",
       "    <tr>\n",
       "      <th>0</th>\n",
       "      <td>0</td>\n",
       "      <td>-1.359807</td>\n",
       "      <td>-0.072781</td>\n",
       "      <td>2.536347</td>\n",
       "      <td>1.378155</td>\n",
       "      <td>-0.338321</td>\n",
       "      <td>0.462388</td>\n",
       "      <td>0.239599</td>\n",
       "      <td>0.098698</td>\n",
       "      <td>0.363787</td>\n",
       "      <td>...</td>\n",
       "      <td>-0.018307</td>\n",
       "      <td>0.277838</td>\n",
       "      <td>-0.110474</td>\n",
       "      <td>0.066928</td>\n",
       "      <td>0.128539</td>\n",
       "      <td>-0.189115</td>\n",
       "      <td>0.133558</td>\n",
       "      <td>-0.021053</td>\n",
       "      <td>149.62</td>\n",
       "      <td>False</td>\n",
       "    </tr>\n",
       "    <tr>\n",
       "      <th>1</th>\n",
       "      <td>0</td>\n",
       "      <td>1.191857</td>\n",
       "      <td>0.266151</td>\n",
       "      <td>0.166480</td>\n",
       "      <td>0.448154</td>\n",
       "      <td>0.060018</td>\n",
       "      <td>-0.082361</td>\n",
       "      <td>-0.078803</td>\n",
       "      <td>0.085102</td>\n",
       "      <td>-0.255425</td>\n",
       "      <td>...</td>\n",
       "      <td>-0.225775</td>\n",
       "      <td>-0.638672</td>\n",
       "      <td>0.101288</td>\n",
       "      <td>-0.339846</td>\n",
       "      <td>0.167170</td>\n",
       "      <td>0.125895</td>\n",
       "      <td>-0.008983</td>\n",
       "      <td>0.014724</td>\n",
       "      <td>2.69</td>\n",
       "      <td>False</td>\n",
       "    </tr>\n",
       "    <tr>\n",
       "      <th>2</th>\n",
       "      <td>1</td>\n",
       "      <td>-1.358354</td>\n",
       "      <td>-1.340163</td>\n",
       "      <td>1.773209</td>\n",
       "      <td>0.379780</td>\n",
       "      <td>-0.503198</td>\n",
       "      <td>1.800499</td>\n",
       "      <td>0.791461</td>\n",
       "      <td>0.247676</td>\n",
       "      <td>-1.514654</td>\n",
       "      <td>...</td>\n",
       "      <td>0.247998</td>\n",
       "      <td>0.771679</td>\n",
       "      <td>0.909412</td>\n",
       "      <td>-0.689281</td>\n",
       "      <td>-0.327642</td>\n",
       "      <td>-0.139097</td>\n",
       "      <td>-0.055353</td>\n",
       "      <td>-0.059752</td>\n",
       "      <td>378.66</td>\n",
       "      <td>False</td>\n",
       "    </tr>\n",
       "    <tr>\n",
       "      <th>3</th>\n",
       "      <td>1</td>\n",
       "      <td>-0.966272</td>\n",
       "      <td>-0.185226</td>\n",
       "      <td>1.792993</td>\n",
       "      <td>-0.863291</td>\n",
       "      <td>-0.010309</td>\n",
       "      <td>1.247203</td>\n",
       "      <td>0.237609</td>\n",
       "      <td>0.377436</td>\n",
       "      <td>-1.387024</td>\n",
       "      <td>...</td>\n",
       "      <td>-0.108300</td>\n",
       "      <td>0.005274</td>\n",
       "      <td>-0.190321</td>\n",
       "      <td>-1.175575</td>\n",
       "      <td>0.647376</td>\n",
       "      <td>-0.221929</td>\n",
       "      <td>0.062723</td>\n",
       "      <td>0.061458</td>\n",
       "      <td>123.50</td>\n",
       "      <td>False</td>\n",
       "    </tr>\n",
       "    <tr>\n",
       "      <th>4</th>\n",
       "      <td>2</td>\n",
       "      <td>-1.158233</td>\n",
       "      <td>0.877737</td>\n",
       "      <td>1.548718</td>\n",
       "      <td>0.403034</td>\n",
       "      <td>-0.407193</td>\n",
       "      <td>0.095921</td>\n",
       "      <td>0.592941</td>\n",
       "      <td>-0.270533</td>\n",
       "      <td>0.817739</td>\n",
       "      <td>...</td>\n",
       "      <td>-0.009431</td>\n",
       "      <td>0.798278</td>\n",
       "      <td>-0.137458</td>\n",
       "      <td>0.141267</td>\n",
       "      <td>-0.206010</td>\n",
       "      <td>0.502292</td>\n",
       "      <td>0.219422</td>\n",
       "      <td>0.215153</td>\n",
       "      <td>69.99</td>\n",
       "      <td>False</td>\n",
       "    </tr>\n",
       "    <tr>\n",
       "      <th>5</th>\n",
       "      <td>2</td>\n",
       "      <td>-0.425966</td>\n",
       "      <td>0.960523</td>\n",
       "      <td>1.141109</td>\n",
       "      <td>-0.168252</td>\n",
       "      <td>0.420987</td>\n",
       "      <td>-0.029728</td>\n",
       "      <td>0.476201</td>\n",
       "      <td>0.260314</td>\n",
       "      <td>-0.568671</td>\n",
       "      <td>...</td>\n",
       "      <td>-0.208254</td>\n",
       "      <td>-0.559825</td>\n",
       "      <td>-0.026398</td>\n",
       "      <td>-0.371427</td>\n",
       "      <td>-0.232794</td>\n",
       "      <td>0.105915</td>\n",
       "      <td>0.253844</td>\n",
       "      <td>0.081080</td>\n",
       "      <td>3.67</td>\n",
       "      <td>False</td>\n",
       "    </tr>\n",
       "    <tr>\n",
       "      <th>6</th>\n",
       "      <td>4</td>\n",
       "      <td>1.229658</td>\n",
       "      <td>0.141004</td>\n",
       "      <td>0.045371</td>\n",
       "      <td>1.202613</td>\n",
       "      <td>0.191881</td>\n",
       "      <td>0.272708</td>\n",
       "      <td>-0.005159</td>\n",
       "      <td>0.081213</td>\n",
       "      <td>0.464960</td>\n",
       "      <td>...</td>\n",
       "      <td>-0.167716</td>\n",
       "      <td>-0.270710</td>\n",
       "      <td>-0.154104</td>\n",
       "      <td>-0.780055</td>\n",
       "      <td>0.750137</td>\n",
       "      <td>-0.257237</td>\n",
       "      <td>0.034507</td>\n",
       "      <td>0.005168</td>\n",
       "      <td>4.99</td>\n",
       "      <td>False</td>\n",
       "    </tr>\n",
       "    <tr>\n",
       "      <th>7</th>\n",
       "      <td>7</td>\n",
       "      <td>-0.644269</td>\n",
       "      <td>1.417964</td>\n",
       "      <td>1.074380</td>\n",
       "      <td>-0.492199</td>\n",
       "      <td>0.948934</td>\n",
       "      <td>0.428118</td>\n",
       "      <td>1.120631</td>\n",
       "      <td>-3.807864</td>\n",
       "      <td>0.615375</td>\n",
       "      <td>...</td>\n",
       "      <td>1.943465</td>\n",
       "      <td>-1.015455</td>\n",
       "      <td>0.057504</td>\n",
       "      <td>-0.649709</td>\n",
       "      <td>-0.415267</td>\n",
       "      <td>-0.051634</td>\n",
       "      <td>-1.206921</td>\n",
       "      <td>-1.085339</td>\n",
       "      <td>40.80</td>\n",
       "      <td>False</td>\n",
       "    </tr>\n",
       "    <tr>\n",
       "      <th>8</th>\n",
       "      <td>7</td>\n",
       "      <td>-0.894286</td>\n",
       "      <td>0.286157</td>\n",
       "      <td>-0.113192</td>\n",
       "      <td>-0.271526</td>\n",
       "      <td>2.669599</td>\n",
       "      <td>3.721818</td>\n",
       "      <td>0.370145</td>\n",
       "      <td>0.851084</td>\n",
       "      <td>-0.392048</td>\n",
       "      <td>...</td>\n",
       "      <td>-0.073425</td>\n",
       "      <td>-0.268092</td>\n",
       "      <td>-0.204233</td>\n",
       "      <td>1.011592</td>\n",
       "      <td>0.373205</td>\n",
       "      <td>-0.384157</td>\n",
       "      <td>0.011747</td>\n",
       "      <td>0.142404</td>\n",
       "      <td>93.20</td>\n",
       "      <td>False</td>\n",
       "    </tr>\n",
       "    <tr>\n",
       "      <th>9</th>\n",
       "      <td>9</td>\n",
       "      <td>-0.338262</td>\n",
       "      <td>1.119593</td>\n",
       "      <td>1.044367</td>\n",
       "      <td>-0.222187</td>\n",
       "      <td>0.499361</td>\n",
       "      <td>-0.246761</td>\n",
       "      <td>0.651583</td>\n",
       "      <td>0.069539</td>\n",
       "      <td>-0.736727</td>\n",
       "      <td>...</td>\n",
       "      <td>-0.246914</td>\n",
       "      <td>-0.633753</td>\n",
       "      <td>-0.120794</td>\n",
       "      <td>-0.385050</td>\n",
       "      <td>-0.069733</td>\n",
       "      <td>0.094199</td>\n",
       "      <td>0.246219</td>\n",
       "      <td>0.083076</td>\n",
       "      <td>3.68</td>\n",
       "      <td>False</td>\n",
       "    </tr>\n",
       "  </tbody>\n",
       "</table>\n",
       "<p>10 rows × 31 columns</p>\n",
       "</div>"
      ],
      "text/plain": [
       "   time        v1        v2        v3        v4        v5        v6        v7  \\\n",
       "0     0 -1.359807 -0.072781  2.536347  1.378155 -0.338321  0.462388  0.239599   \n",
       "1     0  1.191857  0.266151  0.166480  0.448154  0.060018 -0.082361 -0.078803   \n",
       "2     1 -1.358354 -1.340163  1.773209  0.379780 -0.503198  1.800499  0.791461   \n",
       "3     1 -0.966272 -0.185226  1.792993 -0.863291 -0.010309  1.247203  0.237609   \n",
       "4     2 -1.158233  0.877737  1.548718  0.403034 -0.407193  0.095921  0.592941   \n",
       "5     2 -0.425966  0.960523  1.141109 -0.168252  0.420987 -0.029728  0.476201   \n",
       "6     4  1.229658  0.141004  0.045371  1.202613  0.191881  0.272708 -0.005159   \n",
       "7     7 -0.644269  1.417964  1.074380 -0.492199  0.948934  0.428118  1.120631   \n",
       "8     7 -0.894286  0.286157 -0.113192 -0.271526  2.669599  3.721818  0.370145   \n",
       "9     9 -0.338262  1.119593  1.044367 -0.222187  0.499361 -0.246761  0.651583   \n",
       "\n",
       "         v8        v9  ...       v21       v22       v23       v24       v25  \\\n",
       "0  0.098698  0.363787  ... -0.018307  0.277838 -0.110474  0.066928  0.128539   \n",
       "1  0.085102 -0.255425  ... -0.225775 -0.638672  0.101288 -0.339846  0.167170   \n",
       "2  0.247676 -1.514654  ...  0.247998  0.771679  0.909412 -0.689281 -0.327642   \n",
       "3  0.377436 -1.387024  ... -0.108300  0.005274 -0.190321 -1.175575  0.647376   \n",
       "4 -0.270533  0.817739  ... -0.009431  0.798278 -0.137458  0.141267 -0.206010   \n",
       "5  0.260314 -0.568671  ... -0.208254 -0.559825 -0.026398 -0.371427 -0.232794   \n",
       "6  0.081213  0.464960  ... -0.167716 -0.270710 -0.154104 -0.780055  0.750137   \n",
       "7 -3.807864  0.615375  ...  1.943465 -1.015455  0.057504 -0.649709 -0.415267   \n",
       "8  0.851084 -0.392048  ... -0.073425 -0.268092 -0.204233  1.011592  0.373205   \n",
       "9  0.069539 -0.736727  ... -0.246914 -0.633753 -0.120794 -0.385050 -0.069733   \n",
       "\n",
       "        v26       v27       v28  amount  class  \n",
       "0 -0.189115  0.133558 -0.021053  149.62  False  \n",
       "1  0.125895 -0.008983  0.014724    2.69  False  \n",
       "2 -0.139097 -0.055353 -0.059752  378.66  False  \n",
       "3 -0.221929  0.062723  0.061458  123.50  False  \n",
       "4  0.502292  0.219422  0.215153   69.99  False  \n",
       "5  0.105915  0.253844  0.081080    3.67  False  \n",
       "6 -0.257237  0.034507  0.005168    4.99  False  \n",
       "7 -0.051634 -1.206921 -1.085339   40.80  False  \n",
       "8 -0.384157  0.011747  0.142404   93.20  False  \n",
       "9  0.094199  0.246219  0.083076    3.68  False  \n",
       "\n",
       "[10 rows x 31 columns]"
      ]
     },
     "execution_count": 3,
     "metadata": {},
     "output_type": "execute_result"
    }
   ],
   "source": [
    "try:\n",
    "    from google.colab import drive\n",
    "    drive.mount('/content/drive')\n",
    "    data = pd.read_csv(\"/content/drive/MyDrive/Data/creditcard.csv\", sep=',')\n",
    "except: \n",
    "    data = pd.read_csv(\"./Data/creditcard.csv\", sep=',')\n",
    "    \n",
    "data.head(10)"
   ]
  },
  {
   "cell_type": "code",
   "execution_count": 4,
   "metadata": {
    "colab": {
     "base_uri": "https://localhost:8080/",
     "height": 394
    },
    "id": "tFLpGq9XZhbj",
    "outputId": "b6c0306e-3411-499e-e53d-d7423a5c935c"
   },
   "outputs": [
    {
     "data": {
      "text/html": [
       "<div>\n",
       "<style scoped>\n",
       "    .dataframe tbody tr th:only-of-type {\n",
       "        vertical-align: middle;\n",
       "    }\n",
       "\n",
       "    .dataframe tbody tr th {\n",
       "        vertical-align: top;\n",
       "    }\n",
       "\n",
       "    .dataframe thead th {\n",
       "        text-align: right;\n",
       "    }\n",
       "</style>\n",
       "<table border=\"1\" class=\"dataframe\">\n",
       "  <thead>\n",
       "    <tr style=\"text-align: right;\">\n",
       "      <th></th>\n",
       "      <th>time</th>\n",
       "      <th>v1</th>\n",
       "      <th>v2</th>\n",
       "      <th>v3</th>\n",
       "      <th>v4</th>\n",
       "      <th>v5</th>\n",
       "      <th>v6</th>\n",
       "      <th>v7</th>\n",
       "      <th>v8</th>\n",
       "      <th>v9</th>\n",
       "      <th>...</th>\n",
       "      <th>v20</th>\n",
       "      <th>v21</th>\n",
       "      <th>v22</th>\n",
       "      <th>v23</th>\n",
       "      <th>v24</th>\n",
       "      <th>v25</th>\n",
       "      <th>v26</th>\n",
       "      <th>v27</th>\n",
       "      <th>v28</th>\n",
       "      <th>amount</th>\n",
       "    </tr>\n",
       "  </thead>\n",
       "  <tbody>\n",
       "    <tr>\n",
       "      <th>count</th>\n",
       "      <td>284807.00000</td>\n",
       "      <td>284807.00000</td>\n",
       "      <td>284807.00000</td>\n",
       "      <td>284807.00000</td>\n",
       "      <td>284807.00000</td>\n",
       "      <td>284807.00000</td>\n",
       "      <td>284807.00000</td>\n",
       "      <td>284807.00000</td>\n",
       "      <td>284807.00000</td>\n",
       "      <td>284807.00000</td>\n",
       "      <td>...</td>\n",
       "      <td>284807.00000</td>\n",
       "      <td>284807.00000</td>\n",
       "      <td>284807.00000</td>\n",
       "      <td>284807.00000</td>\n",
       "      <td>284807.00000</td>\n",
       "      <td>284807.00000</td>\n",
       "      <td>284807.00000</td>\n",
       "      <td>284807.00000</td>\n",
       "      <td>284807.00000</td>\n",
       "      <td>284807.00000</td>\n",
       "    </tr>\n",
       "    <tr>\n",
       "      <th>mean</th>\n",
       "      <td>94813.85958</td>\n",
       "      <td>0.00000</td>\n",
       "      <td>0.00000</td>\n",
       "      <td>-0.00000</td>\n",
       "      <td>0.00000</td>\n",
       "      <td>0.00000</td>\n",
       "      <td>0.00000</td>\n",
       "      <td>-0.00000</td>\n",
       "      <td>0.00000</td>\n",
       "      <td>-0.00000</td>\n",
       "      <td>...</td>\n",
       "      <td>0.00000</td>\n",
       "      <td>0.00000</td>\n",
       "      <td>-0.00000</td>\n",
       "      <td>0.00000</td>\n",
       "      <td>0.00000</td>\n",
       "      <td>0.00000</td>\n",
       "      <td>0.00000</td>\n",
       "      <td>-0.00000</td>\n",
       "      <td>-0.00000</td>\n",
       "      <td>88.34962</td>\n",
       "    </tr>\n",
       "    <tr>\n",
       "      <th>std</th>\n",
       "      <td>47488.14595</td>\n",
       "      <td>1.95870</td>\n",
       "      <td>1.65131</td>\n",
       "      <td>1.51626</td>\n",
       "      <td>1.41587</td>\n",
       "      <td>1.38025</td>\n",
       "      <td>1.33227</td>\n",
       "      <td>1.23709</td>\n",
       "      <td>1.19435</td>\n",
       "      <td>1.09863</td>\n",
       "      <td>...</td>\n",
       "      <td>0.77093</td>\n",
       "      <td>0.73452</td>\n",
       "      <td>0.72570</td>\n",
       "      <td>0.62446</td>\n",
       "      <td>0.60565</td>\n",
       "      <td>0.52128</td>\n",
       "      <td>0.48223</td>\n",
       "      <td>0.40363</td>\n",
       "      <td>0.33008</td>\n",
       "      <td>250.12011</td>\n",
       "    </tr>\n",
       "    <tr>\n",
       "      <th>min</th>\n",
       "      <td>0.00000</td>\n",
       "      <td>-56.40751</td>\n",
       "      <td>-72.71573</td>\n",
       "      <td>-48.32559</td>\n",
       "      <td>-5.68317</td>\n",
       "      <td>-113.74331</td>\n",
       "      <td>-26.16051</td>\n",
       "      <td>-43.55724</td>\n",
       "      <td>-73.21672</td>\n",
       "      <td>-13.43407</td>\n",
       "      <td>...</td>\n",
       "      <td>-54.49772</td>\n",
       "      <td>-34.83038</td>\n",
       "      <td>-10.93314</td>\n",
       "      <td>-44.80774</td>\n",
       "      <td>-2.83663</td>\n",
       "      <td>-10.29540</td>\n",
       "      <td>-2.60455</td>\n",
       "      <td>-22.56568</td>\n",
       "      <td>-15.43008</td>\n",
       "      <td>0.00000</td>\n",
       "    </tr>\n",
       "    <tr>\n",
       "      <th>25%</th>\n",
       "      <td>54201.50000</td>\n",
       "      <td>-0.92037</td>\n",
       "      <td>-0.59855</td>\n",
       "      <td>-0.89036</td>\n",
       "      <td>-0.84864</td>\n",
       "      <td>-0.69160</td>\n",
       "      <td>-0.76830</td>\n",
       "      <td>-0.55408</td>\n",
       "      <td>-0.20863</td>\n",
       "      <td>-0.64310</td>\n",
       "      <td>...</td>\n",
       "      <td>-0.21172</td>\n",
       "      <td>-0.22839</td>\n",
       "      <td>-0.54235</td>\n",
       "      <td>-0.16185</td>\n",
       "      <td>-0.35459</td>\n",
       "      <td>-0.31715</td>\n",
       "      <td>-0.32698</td>\n",
       "      <td>-0.07084</td>\n",
       "      <td>-0.05296</td>\n",
       "      <td>5.60000</td>\n",
       "    </tr>\n",
       "    <tr>\n",
       "      <th>50%</th>\n",
       "      <td>84692.00000</td>\n",
       "      <td>0.01811</td>\n",
       "      <td>0.06549</td>\n",
       "      <td>0.17985</td>\n",
       "      <td>-0.01985</td>\n",
       "      <td>-0.05434</td>\n",
       "      <td>-0.27419</td>\n",
       "      <td>0.04010</td>\n",
       "      <td>0.02236</td>\n",
       "      <td>-0.05143</td>\n",
       "      <td>...</td>\n",
       "      <td>-0.06248</td>\n",
       "      <td>-0.02945</td>\n",
       "      <td>0.00678</td>\n",
       "      <td>-0.01119</td>\n",
       "      <td>0.04098</td>\n",
       "      <td>0.01659</td>\n",
       "      <td>-0.05214</td>\n",
       "      <td>0.00134</td>\n",
       "      <td>0.01124</td>\n",
       "      <td>22.00000</td>\n",
       "    </tr>\n",
       "    <tr>\n",
       "      <th>75%</th>\n",
       "      <td>139320.50000</td>\n",
       "      <td>1.31564</td>\n",
       "      <td>0.80372</td>\n",
       "      <td>1.02720</td>\n",
       "      <td>0.74334</td>\n",
       "      <td>0.61193</td>\n",
       "      <td>0.39856</td>\n",
       "      <td>0.57044</td>\n",
       "      <td>0.32735</td>\n",
       "      <td>0.59714</td>\n",
       "      <td>...</td>\n",
       "      <td>0.13304</td>\n",
       "      <td>0.18638</td>\n",
       "      <td>0.52855</td>\n",
       "      <td>0.14764</td>\n",
       "      <td>0.43953</td>\n",
       "      <td>0.35072</td>\n",
       "      <td>0.24095</td>\n",
       "      <td>0.09105</td>\n",
       "      <td>0.07828</td>\n",
       "      <td>77.16500</td>\n",
       "    </tr>\n",
       "    <tr>\n",
       "      <th>max</th>\n",
       "      <td>172792.00000</td>\n",
       "      <td>2.45493</td>\n",
       "      <td>22.05773</td>\n",
       "      <td>9.38256</td>\n",
       "      <td>16.87534</td>\n",
       "      <td>34.80167</td>\n",
       "      <td>73.30163</td>\n",
       "      <td>120.58949</td>\n",
       "      <td>20.00721</td>\n",
       "      <td>15.59499</td>\n",
       "      <td>...</td>\n",
       "      <td>39.42090</td>\n",
       "      <td>27.20284</td>\n",
       "      <td>10.50309</td>\n",
       "      <td>22.52841</td>\n",
       "      <td>4.58455</td>\n",
       "      <td>7.51959</td>\n",
       "      <td>3.51735</td>\n",
       "      <td>31.61220</td>\n",
       "      <td>33.84781</td>\n",
       "      <td>25691.16000</td>\n",
       "    </tr>\n",
       "  </tbody>\n",
       "</table>\n",
       "<p>8 rows × 30 columns</p>\n",
       "</div>"
      ],
      "text/plain": [
       "               time            v1            v2            v3            v4  \\\n",
       "count  284807.00000  284807.00000  284807.00000  284807.00000  284807.00000   \n",
       "mean    94813.85958       0.00000       0.00000      -0.00000       0.00000   \n",
       "std     47488.14595       1.95870       1.65131       1.51626       1.41587   \n",
       "min         0.00000     -56.40751     -72.71573     -48.32559      -5.68317   \n",
       "25%     54201.50000      -0.92037      -0.59855      -0.89036      -0.84864   \n",
       "50%     84692.00000       0.01811       0.06549       0.17985      -0.01985   \n",
       "75%    139320.50000       1.31564       0.80372       1.02720       0.74334   \n",
       "max    172792.00000       2.45493      22.05773       9.38256      16.87534   \n",
       "\n",
       "                 v5            v6            v7            v8            v9  \\\n",
       "count  284807.00000  284807.00000  284807.00000  284807.00000  284807.00000   \n",
       "mean        0.00000       0.00000      -0.00000       0.00000      -0.00000   \n",
       "std         1.38025       1.33227       1.23709       1.19435       1.09863   \n",
       "min      -113.74331     -26.16051     -43.55724     -73.21672     -13.43407   \n",
       "25%        -0.69160      -0.76830      -0.55408      -0.20863      -0.64310   \n",
       "50%        -0.05434      -0.27419       0.04010       0.02236      -0.05143   \n",
       "75%         0.61193       0.39856       0.57044       0.32735       0.59714   \n",
       "max        34.80167      73.30163     120.58949      20.00721      15.59499   \n",
       "\n",
       "       ...           v20           v21           v22           v23  \\\n",
       "count  ...  284807.00000  284807.00000  284807.00000  284807.00000   \n",
       "mean   ...       0.00000       0.00000      -0.00000       0.00000   \n",
       "std    ...       0.77093       0.73452       0.72570       0.62446   \n",
       "min    ...     -54.49772     -34.83038     -10.93314     -44.80774   \n",
       "25%    ...      -0.21172      -0.22839      -0.54235      -0.16185   \n",
       "50%    ...      -0.06248      -0.02945       0.00678      -0.01119   \n",
       "75%    ...       0.13304       0.18638       0.52855       0.14764   \n",
       "max    ...      39.42090      27.20284      10.50309      22.52841   \n",
       "\n",
       "                v24           v25           v26           v27           v28  \\\n",
       "count  284807.00000  284807.00000  284807.00000  284807.00000  284807.00000   \n",
       "mean        0.00000       0.00000       0.00000      -0.00000      -0.00000   \n",
       "std         0.60565       0.52128       0.48223       0.40363       0.33008   \n",
       "min        -2.83663     -10.29540      -2.60455     -22.56568     -15.43008   \n",
       "25%        -0.35459      -0.31715      -0.32698      -0.07084      -0.05296   \n",
       "50%         0.04098       0.01659      -0.05214       0.00134       0.01124   \n",
       "75%         0.43953       0.35072       0.24095       0.09105       0.07828   \n",
       "max         4.58455       7.51959       3.51735      31.61220      33.84781   \n",
       "\n",
       "             amount  \n",
       "count  284807.00000  \n",
       "mean       88.34962  \n",
       "std       250.12011  \n",
       "min         0.00000  \n",
       "25%         5.60000  \n",
       "50%        22.00000  \n",
       "75%        77.16500  \n",
       "max     25691.16000  \n",
       "\n",
       "[8 rows x 30 columns]"
      ]
     },
     "execution_count": 4,
     "metadata": {},
     "output_type": "execute_result"
    }
   ],
   "source": [
    "data.describe().apply(lambda s: s.apply('{0:.5f}'.format))"
   ]
  },
  {
   "cell_type": "markdown",
   "metadata": {},
   "source": [
    "*********"
   ]
  },
  {
   "cell_type": "markdown",
   "metadata": {},
   "source": [
    "### B- Data exploration"
   ]
  },
  {
   "cell_type": "code",
   "execution_count": 5,
   "metadata": {
    "colab": {
     "base_uri": "https://localhost:8080/"
    },
    "id": "UM8_S7bWZk5w",
    "outputId": "b95056f3-030c-478c-fb70-7cd31aaf6225"
   },
   "outputs": [
    {
     "name": "stdout",
     "output_type": "stream",
     "text": [
      "Column names: ['time', 'v1', 'v2', 'v3', 'v4', 'v5', 'v6', 'v7', 'v8', 'v9', 'v10', 'v11', 'v12', 'v13', 'v14', 'v15', 'v16', 'v17', 'v18', 'v19', 'v20', 'v21', 'v22', 'v23', 'v24', 'v25', 'v26', 'v27', 'v28', 'amount', 'class']\n"
     ]
    }
   ],
   "source": [
    "print(f\"Column names: {list(data.columns)}\")"
   ]
  },
  {
   "cell_type": "code",
   "execution_count": 6,
   "metadata": {
    "colab": {
     "base_uri": "https://localhost:8080/"
    },
    "id": "kqHfK9BMZuMJ",
    "outputId": "5ec85b36-81ed-41bc-fc53-c6d2da1e47a2"
   },
   "outputs": [
    {
     "name": "stdout",
     "output_type": "stream",
     "text": [
      "Data's shape: (284807, 31)\n",
      "------\n",
      "Data's dtypes:\n",
      "time        int64\n",
      "v1        float64\n",
      "v2        float64\n",
      "v3        float64\n",
      "v4        float64\n",
      "v5        float64\n",
      "v6        float64\n",
      "v7        float64\n",
      "v8        float64\n",
      "v9        float64\n",
      "v10       float64\n",
      "v11       float64\n",
      "v12       float64\n",
      "v13       float64\n",
      "v14       float64\n",
      "v15       float64\n",
      "v16       float64\n",
      "v17       float64\n",
      "v18       float64\n",
      "v19       float64\n",
      "v20       float64\n",
      "v21       float64\n",
      "v22       float64\n",
      "v23       float64\n",
      "v24       float64\n",
      "v25       float64\n",
      "v26       float64\n",
      "v27       float64\n",
      "v28       float64\n",
      "amount    float64\n",
      "class        bool\n",
      "dtype: object\n"
     ]
    }
   ],
   "source": [
    "print(f\"Data's shape: {data.shape}\\n------\")\n",
    "print(f\"Data's dtypes:\\n{data.dtypes}\")"
   ]
  },
  {
   "cell_type": "code",
   "execution_count": 7,
   "metadata": {
    "colab": {
     "base_uri": "https://localhost:8080/"
    },
    "id": "CC6ty61Qcwfr",
    "outputId": "262acabb-c08c-4210-c06d-7a66d795d32a"
   },
   "outputs": [
    {
     "data": {
      "text/plain": [
       "time      0\n",
       "v1        0\n",
       "v2        0\n",
       "v3        0\n",
       "v4        0\n",
       "v5        0\n",
       "v6        0\n",
       "v7        0\n",
       "v8        0\n",
       "v9        0\n",
       "v10       0\n",
       "v11       0\n",
       "v12       0\n",
       "v13       0\n",
       "v14       0\n",
       "v15       0\n",
       "v16       0\n",
       "v17       0\n",
       "v18       0\n",
       "v19       0\n",
       "v20       0\n",
       "v21       0\n",
       "v22       0\n",
       "v23       0\n",
       "v24       0\n",
       "v25       0\n",
       "v26       0\n",
       "v27       0\n",
       "v28       0\n",
       "amount    0\n",
       "class     0\n",
       "dtype: int64"
      ]
     },
     "execution_count": 7,
     "metadata": {},
     "output_type": "execute_result"
    }
   ],
   "source": [
    "data.isna().sum()"
   ]
  },
  {
   "cell_type": "markdown",
   "metadata": {
    "id": "MgxTjR6pdXkF"
   },
   "source": [
    "There isn't any null observation or missing information in the dataset <br>\n",
    "\n",
    "*********"
   ]
  },
  {
   "cell_type": "markdown",
   "metadata": {
    "id": "7OtHoTutbnNg"
   },
   "source": [
    "Let's take a look at the *time* variable"
   ]
  },
  {
   "cell_type": "code",
   "execution_count": 8,
   "metadata": {
    "colab": {
     "base_uri": "https://localhost:8080/"
    },
    "id": "h-8cRq8Wa6gV",
    "outputId": "2e3b940e-6fde-4c44-996e-6cf3c652fe11"
   },
   "outputs": [
    {
     "data": {
      "text/plain": [
       "124592"
      ]
     },
     "execution_count": 8,
     "metadata": {},
     "output_type": "execute_result"
    }
   ],
   "source": [
    "len(data['time'].unique())"
   ]
  },
  {
   "cell_type": "markdown",
   "metadata": {},
   "source": [
    "*********************"
   ]
  },
  {
   "cell_type": "markdown",
   "metadata": {},
   "source": [
    "### C- Data preparation"
   ]
  },
  {
   "cell_type": "markdown",
   "metadata": {
    "id": "6vQvx7Ked94Z"
   },
   "source": [
    "The *time* variable seems to not give any informations, so we chose to delete. We must delete it because it's a counter and it will be the most important variable."
   ]
  },
  {
   "cell_type": "code",
   "execution_count": 9,
   "metadata": {
    "id": "1XrqBw5md0Vm"
   },
   "outputs": [],
   "source": [
    "data.drop(columns='time', inplace=True)"
   ]
  },
  {
   "cell_type": "markdown",
   "metadata": {
    "id": "KETP_U1_kHPn"
   },
   "source": [
    "Separating inputs (X) & output (Y)."
   ]
  },
  {
   "cell_type": "code",
   "execution_count": 10,
   "metadata": {
    "colab": {
     "base_uri": "https://localhost:8080/",
     "height": 317
    },
    "id": "2FTm-SDqeZOA",
    "outputId": "7eaa19fd-b561-4c09-dc9b-127d71d981ca"
   },
   "outputs": [
    {
     "name": "stdout",
     "output_type": "stream",
     "text": [
      "(284807, 29)\n"
     ]
    },
    {
     "data": {
      "text/html": [
       "<div>\n",
       "<style scoped>\n",
       "    .dataframe tbody tr th:only-of-type {\n",
       "        vertical-align: middle;\n",
       "    }\n",
       "\n",
       "    .dataframe tbody tr th {\n",
       "        vertical-align: top;\n",
       "    }\n",
       "\n",
       "    .dataframe thead th {\n",
       "        text-align: right;\n",
       "    }\n",
       "</style>\n",
       "<table border=\"1\" class=\"dataframe\">\n",
       "  <thead>\n",
       "    <tr style=\"text-align: right;\">\n",
       "      <th></th>\n",
       "      <th>v1</th>\n",
       "      <th>v2</th>\n",
       "      <th>v3</th>\n",
       "      <th>v4</th>\n",
       "      <th>v5</th>\n",
       "      <th>v6</th>\n",
       "      <th>v7</th>\n",
       "      <th>v8</th>\n",
       "      <th>v9</th>\n",
       "      <th>v10</th>\n",
       "      <th>...</th>\n",
       "      <th>v20</th>\n",
       "      <th>v21</th>\n",
       "      <th>v22</th>\n",
       "      <th>v23</th>\n",
       "      <th>v24</th>\n",
       "      <th>v25</th>\n",
       "      <th>v26</th>\n",
       "      <th>v27</th>\n",
       "      <th>v28</th>\n",
       "      <th>amount</th>\n",
       "    </tr>\n",
       "  </thead>\n",
       "  <tbody>\n",
       "    <tr>\n",
       "      <th>0</th>\n",
       "      <td>-1.359807</td>\n",
       "      <td>-0.072781</td>\n",
       "      <td>2.536347</td>\n",
       "      <td>1.378155</td>\n",
       "      <td>-0.338321</td>\n",
       "      <td>0.462388</td>\n",
       "      <td>0.239599</td>\n",
       "      <td>0.098698</td>\n",
       "      <td>0.363787</td>\n",
       "      <td>0.090794</td>\n",
       "      <td>...</td>\n",
       "      <td>0.251412</td>\n",
       "      <td>-0.018307</td>\n",
       "      <td>0.277838</td>\n",
       "      <td>-0.110474</td>\n",
       "      <td>0.066928</td>\n",
       "      <td>0.128539</td>\n",
       "      <td>-0.189115</td>\n",
       "      <td>0.133558</td>\n",
       "      <td>-0.021053</td>\n",
       "      <td>149.62</td>\n",
       "    </tr>\n",
       "    <tr>\n",
       "      <th>1</th>\n",
       "      <td>1.191857</td>\n",
       "      <td>0.266151</td>\n",
       "      <td>0.166480</td>\n",
       "      <td>0.448154</td>\n",
       "      <td>0.060018</td>\n",
       "      <td>-0.082361</td>\n",
       "      <td>-0.078803</td>\n",
       "      <td>0.085102</td>\n",
       "      <td>-0.255425</td>\n",
       "      <td>-0.166974</td>\n",
       "      <td>...</td>\n",
       "      <td>-0.069083</td>\n",
       "      <td>-0.225775</td>\n",
       "      <td>-0.638672</td>\n",
       "      <td>0.101288</td>\n",
       "      <td>-0.339846</td>\n",
       "      <td>0.167170</td>\n",
       "      <td>0.125895</td>\n",
       "      <td>-0.008983</td>\n",
       "      <td>0.014724</td>\n",
       "      <td>2.69</td>\n",
       "    </tr>\n",
       "    <tr>\n",
       "      <th>2</th>\n",
       "      <td>-1.358354</td>\n",
       "      <td>-1.340163</td>\n",
       "      <td>1.773209</td>\n",
       "      <td>0.379780</td>\n",
       "      <td>-0.503198</td>\n",
       "      <td>1.800499</td>\n",
       "      <td>0.791461</td>\n",
       "      <td>0.247676</td>\n",
       "      <td>-1.514654</td>\n",
       "      <td>0.207643</td>\n",
       "      <td>...</td>\n",
       "      <td>0.524980</td>\n",
       "      <td>0.247998</td>\n",
       "      <td>0.771679</td>\n",
       "      <td>0.909412</td>\n",
       "      <td>-0.689281</td>\n",
       "      <td>-0.327642</td>\n",
       "      <td>-0.139097</td>\n",
       "      <td>-0.055353</td>\n",
       "      <td>-0.059752</td>\n",
       "      <td>378.66</td>\n",
       "    </tr>\n",
       "    <tr>\n",
       "      <th>3</th>\n",
       "      <td>-0.966272</td>\n",
       "      <td>-0.185226</td>\n",
       "      <td>1.792993</td>\n",
       "      <td>-0.863291</td>\n",
       "      <td>-0.010309</td>\n",
       "      <td>1.247203</td>\n",
       "      <td>0.237609</td>\n",
       "      <td>0.377436</td>\n",
       "      <td>-1.387024</td>\n",
       "      <td>-0.054952</td>\n",
       "      <td>...</td>\n",
       "      <td>-0.208038</td>\n",
       "      <td>-0.108300</td>\n",
       "      <td>0.005274</td>\n",
       "      <td>-0.190321</td>\n",
       "      <td>-1.175575</td>\n",
       "      <td>0.647376</td>\n",
       "      <td>-0.221929</td>\n",
       "      <td>0.062723</td>\n",
       "      <td>0.061458</td>\n",
       "      <td>123.50</td>\n",
       "    </tr>\n",
       "    <tr>\n",
       "      <th>4</th>\n",
       "      <td>-1.158233</td>\n",
       "      <td>0.877737</td>\n",
       "      <td>1.548718</td>\n",
       "      <td>0.403034</td>\n",
       "      <td>-0.407193</td>\n",
       "      <td>0.095921</td>\n",
       "      <td>0.592941</td>\n",
       "      <td>-0.270533</td>\n",
       "      <td>0.817739</td>\n",
       "      <td>0.753074</td>\n",
       "      <td>...</td>\n",
       "      <td>0.408542</td>\n",
       "      <td>-0.009431</td>\n",
       "      <td>0.798278</td>\n",
       "      <td>-0.137458</td>\n",
       "      <td>0.141267</td>\n",
       "      <td>-0.206010</td>\n",
       "      <td>0.502292</td>\n",
       "      <td>0.219422</td>\n",
       "      <td>0.215153</td>\n",
       "      <td>69.99</td>\n",
       "    </tr>\n",
       "  </tbody>\n",
       "</table>\n",
       "<p>5 rows × 29 columns</p>\n",
       "</div>"
      ],
      "text/plain": [
       "         v1        v2        v3        v4        v5        v6        v7  \\\n",
       "0 -1.359807 -0.072781  2.536347  1.378155 -0.338321  0.462388  0.239599   \n",
       "1  1.191857  0.266151  0.166480  0.448154  0.060018 -0.082361 -0.078803   \n",
       "2 -1.358354 -1.340163  1.773209  0.379780 -0.503198  1.800499  0.791461   \n",
       "3 -0.966272 -0.185226  1.792993 -0.863291 -0.010309  1.247203  0.237609   \n",
       "4 -1.158233  0.877737  1.548718  0.403034 -0.407193  0.095921  0.592941   \n",
       "\n",
       "         v8        v9       v10  ...       v20       v21       v22       v23  \\\n",
       "0  0.098698  0.363787  0.090794  ...  0.251412 -0.018307  0.277838 -0.110474   \n",
       "1  0.085102 -0.255425 -0.166974  ... -0.069083 -0.225775 -0.638672  0.101288   \n",
       "2  0.247676 -1.514654  0.207643  ...  0.524980  0.247998  0.771679  0.909412   \n",
       "3  0.377436 -1.387024 -0.054952  ... -0.208038 -0.108300  0.005274 -0.190321   \n",
       "4 -0.270533  0.817739  0.753074  ...  0.408542 -0.009431  0.798278 -0.137458   \n",
       "\n",
       "        v24       v25       v26       v27       v28  amount  \n",
       "0  0.066928  0.128539 -0.189115  0.133558 -0.021053  149.62  \n",
       "1 -0.339846  0.167170  0.125895 -0.008983  0.014724    2.69  \n",
       "2 -0.689281 -0.327642 -0.139097 -0.055353 -0.059752  378.66  \n",
       "3 -1.175575  0.647376 -0.221929  0.062723  0.061458  123.50  \n",
       "4  0.141267 -0.206010  0.502292  0.219422  0.215153   69.99  \n",
       "\n",
       "[5 rows x 29 columns]"
      ]
     },
     "execution_count": 10,
     "metadata": {},
     "output_type": "execute_result"
    }
   ],
   "source": [
    "# On peut combiner la ligne 6 ans la 7 \n",
    "X = data.drop(columns=\"class\")\n",
    "print(X.shape)\n",
    "X.head(5)"
   ]
  },
  {
   "cell_type": "code",
   "execution_count": 11,
   "metadata": {
    "colab": {
     "base_uri": "https://localhost:8080/"
    },
    "id": "T-ztU3jajjlb",
    "outputId": "ff6c91d0-c000-4c49-8731-61c91c380206"
   },
   "outputs": [
    {
     "name": "stdout",
     "output_type": "stream",
     "text": [
      "(284807,)\n"
     ]
    },
    {
     "data": {
      "text/plain": [
       "0    False\n",
       "1    False\n",
       "2    False\n",
       "3    False\n",
       "4    False\n",
       "Name: class, dtype: bool"
      ]
     },
     "execution_count": 11,
     "metadata": {},
     "output_type": "execute_result"
    }
   ],
   "source": [
    "Y = data['class'].copy()\n",
    "print(Y.shape)\n",
    "Y.head(5)"
   ]
  },
  {
   "cell_type": "code",
   "execution_count": 12,
   "metadata": {
    "id": "LQjkpQDXi72G"
   },
   "outputs": [],
   "source": [
    "X_normalized = StandardScaler().fit_transform(X)\n",
    "# Become a ndarray it's not a DataFrame anymore\n",
    "Y_prepross = LabelBinarizer().fit_transform(Y)\n",
    "\n",
    "Y_prepross = Y_prepross.reshape((Y_prepross.shape[0]))"
   ]
  },
  {
   "cell_type": "code",
   "execution_count": 13,
   "metadata": {
    "id": "90iPwS9Gle-_"
   },
   "outputs": [],
   "source": [
    "x_train, x_test,y_train, y_test = train_test_split(X_normalized, Y_prepross,\\\n",
    "                                                   test_size=0.3, random_state=RANDOM_STATE,\\\n",
    "                                                   stratify=Y_prepross)\n",
    "# Stratify attribute permites us to have the same amount of fraud in our \n",
    "# subdatasets! It's a way to fight against bais du to imbalanced data"
   ]
  },
  {
   "cell_type": "code",
   "execution_count": 14,
   "metadata": {
    "colab": {
     "base_uri": "https://localhost:8080/"
    },
    "id": "IpatXaGemtyH",
    "outputId": "04626526-f36d-4ba1-cbff-6313a9e89884",
    "scrolled": true
   },
   "outputs": [
    {
     "name": "stdout",
     "output_type": "stream",
     "text": [
      "x_train shape:(199364, 29)\n",
      "x_test shape:(85443, 29)\n",
      "y_train shape: (199364,)\n",
      "y_test shape: (85443,)\n"
     ]
    }
   ],
   "source": [
    "print(f\"x_train shape:{x_train.shape}\\nx_test shape:{x_test.shape}\\ny_train shape: {y_train.shape}\\ny_test shape: {y_test.shape}\")"
   ]
  },
  {
   "cell_type": "markdown",
   "metadata": {
    "id": "qPZ87TTi4EQz"
   },
   "source": [
    "Compute fraud rate in the dataset"
   ]
  },
  {
   "cell_type": "code",
   "execution_count": 15,
   "metadata": {
    "colab": {
     "base_uri": "https://localhost:8080/"
    },
    "id": "QXUutn073pBL",
    "outputId": "b5f25f95-65b7-47a6-85e4-33059b7c6638"
   },
   "outputs": [
    {
     "name": "stdout",
     "output_type": "stream",
     "text": [
      "Fraud rate: 0.1727%\n"
     ]
    }
   ],
   "source": [
    "fraud_rate = (y_train.sum() + y_test.sum()) / (y_train.shape[0] + y_test.shape[0])\n",
    "# We can also use: \n",
    "# fraud_rate = data['class'].sum() / data.shape[0]\n",
    "print(f\"Fraud rate: {round(fraud_rate * 100, 4)}%\")"
   ]
  },
  {
   "cell_type": "code",
   "execution_count": 16,
   "metadata": {
    "id": "BBI3kgJN6CE7"
   },
   "outputs": [],
   "source": [
    "def addlabels(x, y):\n",
    "    \"\"\"\n",
    "    Add the corresponding value for each segment of a barplot\n",
    "    \"\"\"\n",
    "    for i in range(len(x)):\n",
    "        plt.text(i, y[i]+1, round(y[i], 3), ha='center')"
   ]
  },
  {
   "cell_type": "code",
   "execution_count": 17,
   "metadata": {
    "id": "_hAPUs-n5qZ7"
   },
   "outputs": [],
   "source": [
    "def plotDistribution(result_dict: dict, title: str, x_label: str, absolute=True) -> None:\n",
    "    \"\"\"\n",
    "    Display a barplot with absolute value or relative value\n",
    "    \"\"\"\n",
    "    fig = plt.figure(figsize=(8,6))\n",
    "    if absolute:\n",
    "        plt.bar(result_dict.keys(), result_dict.values(), color= ['red', 'blue', 'cyan', 'orange', 'green', 'yellow'])\n",
    "        plt.title(label=title)\n",
    "        plt.xlabel(x_label)\n",
    "        addlabels(result_dict.keys(), list(result_dict.values()))\n",
    "    else:\n",
    "        ratio = [(i/sum(result_dict.values()))*100 for i in list(result_dict.values())]\n",
    "\n",
    "        plt.bar(result_dict.keys(), ratio, color= ['red', 'blue', 'cyan', 'orange', 'green', 'yellow'])\n",
    "        plt.title(label=title)\n",
    "        plt.xlabel(x_label)\n",
    "        plt.ylabel('en %')\n",
    "        addlabels(result_dict.keys(), ratio)\n",
    "    fig.tight_layout()\n",
    "    plt.show()"
   ]
  },
  {
   "cell_type": "code",
   "execution_count": 18,
   "metadata": {
    "colab": {
     "base_uri": "https://localhost:8080/",
     "height": 585
    },
    "id": "4wg8KoTZ5uKt",
    "outputId": "3509cf59-edc4-4b03-ed44-c8c697838006"
   },
   "outputs": [
    {
     "data": {
      "image/png": "[encoded data removed]",
      "text/plain": [
       "<Figure size 800x600 with 1 Axes>"
      ]
     },
     "metadata": {},
     "output_type": "display_data"
    }
   ],
   "source": [
    "fraud_rate_dict = {\"Fraud\": data[\"class\"].sum(), \"Not a Fraud\": (data['class'] == False).sum()}\n",
    "\n",
    "plotDistribution(fraud_rate_dict, \"Fraud Rate\", \"\", absolute=False)"
   ]
  },
  {
   "cell_type": "code",
   "execution_count": 19,
   "metadata": {
    "colab": {
     "base_uri": "https://localhost:8080/"
    },
    "id": "Xc1mpjx_6VLk",
    "outputId": "66a07654-6e64-4b18-da5f-6c9d68fce352"
   },
   "outputs": [
    {
     "data": {
      "text/plain": [
       "True"
      ]
     },
     "execution_count": 19,
     "metadata": {},
     "output_type": "execute_result"
    }
   ],
   "source": [
    "# Check if we don't miss any observation\n",
    "((data['class'] == False).sum() + data['class'].sum()) == data.shape[0]"
   ]
  },
  {
   "cell_type": "code",
   "execution_count": 20,
   "metadata": {
    "colab": {
     "base_uri": "https://localhost:8080/"
    },
    "id": "DlyFn1w38s5o",
    "outputId": "f97b9ae7-dacf-4a7b-8490-452f0d70f1e9"
   },
   "outputs": [
    {
     "name": "stdout",
     "output_type": "stream",
     "text": [
      "y_train fraud rate: 0.1725%\n",
      "\n",
      "y_test fraud rate: 0.1732%\n"
     ]
    }
   ],
   "source": [
    "print(f\"y_train fraud rate: {round((y_train.sum()/y_train.shape[0])*100, 4)}%\\n\")\n",
    "print(f\"y_test fraud rate: {round((y_test.sum()/y_test.shape[0])*100, 4)}%\")"
   ]
  },
  {
   "cell_type": "code",
   "execution_count": 21,
   "metadata": {
    "id": "Zelg7yeQ_gzD"
   },
   "outputs": [],
   "source": [
    "#TODO: dimensions reduction!"
   ]
  },
  {
   "cell_type": "markdown",
   "metadata": {},
   "source": [
    "__Few words before training and testing algorithms__ <br>\n",
    "Warning can appears during finding the best hyperparameters for each algorithm this is normal because some hyperparameters doesn't work together! But there isn't any influence on the algortihm efficiency."
   ]
  },
  {
   "cell_type": "markdown",
   "metadata": {},
   "source": [
    "We'll use Cross Validation for all classifier."
   ]
  },
  {
   "cell_type": "code",
   "execution_count": 22,
   "metadata": {},
   "outputs": [],
   "source": [
    "stratified_k_fold = StratifiedKFold(n_splits=N_SPLITS, shuffle=True, random_state=RANDOM_STATE)"
   ]
  },
  {
   "cell_type": "code",
   "execution_count": 23,
   "metadata": {},
   "outputs": [],
   "source": [
    "def saveModel(model, model_name: str):\n",
    "    filename = path.join(MODEL_PATH, model_name + MODEL_EXTENSION)\n",
    "    pickle.dump(model, open(filename, \"wb\"))"
   ]
  },
  {
   "cell_type": "code",
   "execution_count": 24,
   "metadata": {},
   "outputs": [],
   "source": [
    "def loadModel(model_name: str):\n",
    "    filename = path.join(MODEL_PATH, model_name + MODEL_EXTENSION)\n",
    "    loaded_model = pickle.load(open(filename, \"rb\"))\n",
    "    \n",
    "    return loaded_model"
   ]
  },
  {
   "cell_type": "markdown",
   "metadata": {},
   "source": [
    "**************"
   ]
  },
  {
   "cell_type": "markdown",
   "metadata": {},
   "source": [
    "## II- Logistic Regression Classifier"
   ]
  },
  {
   "cell_type": "code",
   "execution_count": 25,
   "metadata": {},
   "outputs": [],
   "source": [
    "lr = LogisticRegression()"
   ]
  },
  {
   "cell_type": "markdown",
   "metadata": {},
   "source": [
    "In the next cell we're choosing the best hyperparameters for the Logistic Regression, training the model wiht those hyperparameters and testing the model on the test set. We also compute the recall score on predictions done on the test set."
   ]
  },
  {
   "cell_type": "markdown",
   "metadata": {},
   "source": [
    "__All training part took a lot of time to run. So I decided to let the code as markdown and not a code cell so we can run it quickly. Trained model are saved on a folder give with this notebook.__"
   ]
  },
  {
   "cell_type": "markdown",
   "metadata": {},
   "source": [
    "Let's use GridSearchCV for testing different hyperparameters for LR"
   ]
  },
  {
   "cell_type": "markdown",
   "metadata": {
    "colab": {
     "base_uri": "https://localhost:8080/"
    },
    "id": "XsswzyIAFGJ1",
    "outputId": "8a2a2506-b0fc-430d-d613-4836368b206b"
   },
   "source": [
    "---\n",
    "```python\n",
    "start_time = datetime.now()\n",
    "\n",
    "lr_parameters = {\"penalty\": [\"none\", \"l2\", \"l1\", \"elasticnet\"],\n",
    "                 \"solver\": [\"newton-cg\", \"lbfgs\", \"liblinear\", \"sag\", \"saga\"],\n",
    "                 \"C\": [0.1, 1, 10],\n",
    "                \"max_iter\": [100, 1000, 10000, 100000]}\n",
    "\n",
    "lr_hpc = GridSearchCV(estimator=lr, \n",
    "                   param_grid=lr_parameters,\n",
    "                   scoring=\"recall\",\n",
    "                   verbose=1, \n",
    "                   cv=stratified_k_fold,\n",
    "                  n_jobs=-1)\n",
    "\n",
    "lr_model = lr_hpc.fit(x_train, y_train)\n",
    "y_pred_lr_bp = lr_model.predict(x_test)\n",
    "\n",
    "\n",
    "print(\"\\nBest parameters:\", lr_hpc.best_params_)\n",
    "print(\"Best recall score:\", round(lr_hpc.best_score_, 4))\n",
    "print(len(\"Recall score on test set:\")*\"*\")\n",
    "lr_recall = metrics.recall_score(y_test, y_pred_lr_bp)\n",
    "print(\"\\nRecall score on test set:\", round(lr_recall, 4))\n",
    "\n",
    "matrix_lr = metrics.confusion_matrix(y_test, y_pred_lr_bp)\n",
    "sns.heatmap(matrix_lr, annot = True, fmt='g', cmap=\"Blues\")\n",
    "plt.show()\n",
    "\n",
    "end_time = datetime.now()\n",
    "print('Duration: {}'.format(end_time - start_time))\n",
    "```\n",
    "---"
   ]
  },
  {
   "cell_type": "code",
   "execution_count": 26,
   "metadata": {},
   "outputs": [],
   "source": [
    "# TODO: test with class_weight LogisticRegression Classifier"
   ]
  },
  {
   "cell_type": "markdown",
   "metadata": {},
   "source": [
    "Next cell: find the best hyperparameters, train a model with those hyperparameters, make predict on the test set, save the best model on *Models* folder and display the confusion matrix."
   ]
  },
  {
   "cell_type": "markdown",
   "metadata": {
    "colab": {
     "base_uri": "https://localhost:8080/"
    },
    "id": "-6PL7mC-cnNf",
    "outputId": "38578f36-265f-479d-d21b-60bdc48aa50a"
   },
   "source": [
    "This cell is use to train the model ! It takes a lot of time, for prediction only check cells below.\n",
    "```python\n",
    "start_time = datetime.now()\n",
    "\n",
    "lr_parameters = {\"solver\": [\"newton-cg\", \"liblinear\"],\n",
    "                 \"max_iter\": [100, 1000, 10000, 100000]}\n",
    "\n",
    "lr_hpc = GridSearchCV(estimator=lr, \n",
    "                   param_grid=lr_parameters,\n",
    "                   scoring=\"recall\",\n",
    "                   verbose=1, \n",
    "                   cv=stratified_k_fold,\n",
    "                  n_jobs=-1)\n",
    "\n",
    "lr_model = lr_hpc.fit(x_train, y_train)\n",
    "y_pred_lr_bp = lr_model.predict(x_test)\n",
    "\n",
    "saveModel(lr_model, \"lr_model\")\n",
    "\n",
    "print(\"Best parameters:\", lr_hpc.best_params_)\n",
    "print(\"Best recall score:\", round(lr_hpc.best_score_, 4))\n",
    "print(len(\"Recall score on test set:\")*\"*\")\n",
    "print(\"\\nRecall score on test set:\", round(metrics.recall_score(y_test, y_pred_lr_bp), 4))\n",
    "\n",
    "matrix_lr = metrics.confusion_matrix(y_test, y_pred_lr_bp)\n",
    "sns.heatmap(matrix_lr, annot = True, fmt='g', cmap=\"Blues\")\n",
    "plt.show()\n",
    "\n",
    "end_time = datetime.now()\n",
    "print('Duration: {}'.format(end_time - start_time))\n",
    "```"
   ]
  },
  {
   "cell_type": "markdown",
   "metadata": {},
   "source": [
    "Load the last saved model, make prediction on the test set and display the confusion matrix."
   ]
  },
  {
   "cell_type": "code",
   "execution_count": 27,
   "metadata": {},
   "outputs": [
    {
     "name": "stdout",
     "output_type": "stream",
     "text": [
      "Best hyperparameters: {'max_iter': 100, 'solver': 'newton-cg'}\n",
      "\n",
      "Recall score on test set: 0.5946\n"
     ]
    },
    {
     "data": {
      "image/png": "[encoded data removed]",
      "text/plain": [
       "<Figure size 640x480 with 2 Axes>"
      ]
     },
     "metadata": {},
     "output_type": "display_data"
    }
   ],
   "source": [
    "lr_model = loadModel(\"lr_model\")\n",
    "print(f\"Best hyperparameters: {lr_model.best_params_}\")\n",
    "\n",
    "y_pred_lr = lr_model.predict(x_test)\n",
    "\n",
    "print(\"\\nRecall score on test set:\", round(metrics.recall_score(y_test, y_pred_lr), 4))\n",
    "\n",
    "matrix_lr = metrics.confusion_matrix(y_test, y_pred_lr)\n",
    "sns.heatmap(matrix_lr, annot = True, fmt='g', cmap=\"Blues\")\n",
    "plt.show()"
   ]
  },
  {
   "cell_type": "markdown",
   "metadata": {},
   "source": [
    "*****"
   ]
  },
  {
   "cell_type": "markdown",
   "metadata": {},
   "source": [
    "## III- Decision Tree Classifier"
   ]
  },
  {
   "cell_type": "code",
   "execution_count": 28,
   "metadata": {},
   "outputs": [],
   "source": [
    "dt = DecisionTreeClassifier()"
   ]
  },
  {
   "cell_type": "markdown",
   "metadata": {},
   "source": [
    "Code for training:"
   ]
  },
  {
   "cell_type": "markdown",
   "metadata": {},
   "source": [
    "---\n",
    "```python\n",
    "start_time = datetime.now()\n",
    "\n",
    "dt_parameters = {\"criterion\": [\"gini\", \"entropy\", \"log_loss\"],\n",
    "                \"splitter\": [\"best\", \"random\"]}\n",
    "\n",
    "dt_hpc = GridSearchCV(estimator=dt, \n",
    "                   param_grid=dt_parameters,\n",
    "                   scoring=\"recall\",\n",
    "                   verbose=1, \n",
    "                   cv=stratified_k_fold,\n",
    "                  n_jobs=-1)\n",
    "\n",
    "dt_model = dt_hpc.fit(x_train, y_train)\n",
    "y_pred_dt_bp = dt_model.predict(x_test)\n",
    "\n",
    "saveModel(dt_model, \"dt_model\")\n",
    "\n",
    "print(\"Best parameters:\", dt_hpc.best_params_)\n",
    "print(\"Best recall score:\", round(dt_hpc.best_score_, 4))\n",
    "print(len(\"Recall score on test set:\")*\"*\")\n",
    "dt_recall = metrics.recall_score(y_test, y_pred_dt_bp)\n",
    "print(\"\\nRecall score on test set:\", round(dt_recall, 4))\n",
    "\n",
    "matrix_dt = metrics.confusion_matrix(y_test, y_pred_dt_bp)\n",
    "sns.heatmap(matrix_dt, annot = True, fmt='g', cmap=\"Blues\")\n",
    "plt.show()\n",
    "\n",
    "end_time = datetime.now()\n",
    "print('Duration: {}'.format(end_time - start_time))\n",
    "```\n",
    "---"
   ]
  },
  {
   "cell_type": "code",
   "execution_count": 29,
   "metadata": {},
   "outputs": [
    {
     "name": "stdout",
     "output_type": "stream",
     "text": [
      "Best hyperparameters: {'criterion': 'entropy', 'splitter': 'random'}\n",
      "\n",
      "Recall score on test set: 0.7432\n"
     ]
    },
    {
     "data": {
      "image/png": "[encoded data removed]",
      "text/plain": [
       "<Figure size 640x480 with 2 Axes>"
      ]
     },
     "metadata": {},
     "output_type": "display_data"
    }
   ],
   "source": [
    "dt_model = loadModel(\"dt_model\")\n",
    "print(f\"Best hyperparameters: {dt_model.best_params_}\")\n",
    "\n",
    "y_pred_dt = dt_model.predict(x_test)\n",
    "\n",
    "print(\"\\nRecall score on test set:\", round(metrics.recall_score(y_test, y_pred_dt), 4))\n",
    "\n",
    "matrix_dt = metrics.confusion_matrix(y_test, y_pred_dt)\n",
    "sns.heatmap(matrix_dt, annot = True, fmt='g', cmap=\"Blues\")\n",
    "plt.show()"
   ]
  },
  {
   "cell_type": "markdown",
   "metadata": {},
   "source": [
    "*************"
   ]
  },
  {
   "cell_type": "markdown",
   "metadata": {},
   "source": [
    "## IV- Random Forest Classifier"
   ]
  },
  {
   "cell_type": "code",
   "execution_count": 30,
   "metadata": {},
   "outputs": [],
   "source": [
    "rf = RandomForestClassifier()"
   ]
  },
  {
   "cell_type": "markdown",
   "metadata": {},
   "source": [
    "---\n",
    "```python\n",
    "start_time = datetime.now()\n",
    "\n",
    "rf_parameters = {\"criterion\": [\"gini\", \"entropy\", \"log_loss\"]}\n",
    "\n",
    "rf_hpc = GridSearchCV(estimator=rf, \n",
    "                   param_grid=rf_parameters,\n",
    "                   scoring=\"recall\",\n",
    "                   verbose=1, \n",
    "                   cv=stratified_k_fold,\n",
    "                  n_jobs=-1)\n",
    "\n",
    "rf_model = rf_hpc.fit(x_train, y_train)\n",
    "y_pred_rf_bp = rf_model.predict(x_test)\n",
    "\n",
    "saveModel(rf_model, \"rf_model\")\n",
    "\n",
    "print(\"Best parameters:\", rf_hpc.best_params_)\n",
    "print(\"Best recall score:\", round(rf_hpc.best_score_, 4))\n",
    "print(len(\"Recall score on test set:\")*\"*\")\n",
    "rf_recall = metrics.recall_score(y_test, y_pred_rf_bp)\n",
    "print(\"\\nRecall score on test set:\", round(rf_recall, 4))\n",
    "\n",
    "matrix_rf = metrics.confusion_matrix(y_test, y_pred_rf_bp)\n",
    "sns.heatmap(matrix_rf, annot = True, fmt='g', cmap=\"Blues\")\n",
    "plt.show()\n",
    "\n",
    "end_time = datetime.now()\n",
    "print('Duration: {}'.format(end_time - start_time))\n",
    "```\n",
    "---"
   ]
  },
  {
   "cell_type": "code",
   "execution_count": 31,
   "metadata": {},
   "outputs": [
    {
     "name": "stdout",
     "output_type": "stream",
     "text": [
      "Best hyperparameters: {'criterion': 'gini'}\n",
      "\n",
      "Recall score on test set: 0.7365\n"
     ]
    },
    {
     "data": {
      "image/png": "[encoded data removed]",
      "text/plain": [
       "<Figure size 640x480 with 2 Axes>"
      ]
     },
     "metadata": {},
     "output_type": "display_data"
    }
   ],
   "source": [
    "rf_model = loadModel(\"rf_model\")\n",
    "print(f\"Best hyperparameters: {rf_model.best_params_}\")\n",
    "\n",
    "y_pred_rf = rf_model.predict(x_test)\n",
    "\n",
    "print(\"\\nRecall score on test set:\", round(metrics.recall_score(y_test, y_pred_rf), 4))\n",
    "\n",
    "matrix_rf = metrics.confusion_matrix(y_test, y_pred_rf)\n",
    "sns.heatmap(matrix_rf, annot = True, fmt='g', cmap=\"Blues\")\n",
    "plt.show()"
   ]
  },
  {
   "cell_type": "markdown",
   "metadata": {},
   "source": [
    "*************"
   ]
  },
  {
   "cell_type": "markdown",
   "metadata": {},
   "source": [
    "## V- SVC"
   ]
  },
  {
   "cell_type": "code",
   "execution_count": 32,
   "metadata": {},
   "outputs": [],
   "source": [
    "svc = SVC(cache_size=4000)"
   ]
  },
  {
   "cell_type": "markdown",
   "metadata": {},
   "source": [
    "__DO NOT EXECUTE THE NEXT CELL__ <br>\n",
    "SVC classifier doesn't stop running! There's too much data for the training set! "
   ]
  },
  {
   "cell_type": "markdown",
   "metadata": {},
   "source": [
    "SVCs do not work on such large amounts of data. We still leave the code to train the model but we have not trained it. So CVS results will not be found in the rest of this work."
   ]
  },
  {
   "cell_type": "markdown",
   "metadata": {},
   "source": [
    "---\n",
    "```python\n",
    "start_time = datetime.now()\n",
    "\n",
    "svc_parameters = {\"kernel\": [\"linear\"]}\n",
    "\n",
    "svc_hpc = GridSearchCV(estimator=svc, \n",
    "                   param_grid=svc_parameters,\n",
    "                   scoring=\"recall\",\n",
    "                   verbose=1, \n",
    "                   cv=stratified_k_fold,\n",
    "                      n_jobs=-1)\n",
    "\n",
    "svc_model = svc_hpc.fit(x_train, y_train)\n",
    "y_pred_svc_bp = svc_model.predict(x_test)\n",
    "\n",
    "print(\"Best parameters:\", svc_hpc.best_params_)\n",
    "print(\"Best recall score:\", round(svc_hpc.best_score_, 4))\n",
    "print(len(\"Recall score on test set:\")*\"*\")\n",
    "svc_recall = metrics.recall_score(y_test, y_pred_svc_bp)\n",
    "print(\"\\nRecall score on test set:\", round(svc_recall, 4))\n",
    "\n",
    "matrix_svc = metrics.confusion_matrix(y_test, y_pred_svc_bp)\n",
    "sns.heatmap(matrix_svc, annot = True, fmt='g', cmap=\"Blues\")\n",
    "plt.show()\n",
    "\n",
    "end_time = datetime.now()\n",
    "print('Duration: {}'.format(end_time - start_time))\n",
    "```\n",
    "---"
   ]
  },
  {
   "cell_type": "markdown",
   "metadata": {},
   "source": [
    "Not using *precomputed* kernel because it need a (n_sample, n_sample) matrix as input and not the usual (n_samples, n_features) matrix."
   ]
  },
  {
   "cell_type": "code",
   "execution_count": 38,
   "metadata": {},
   "outputs": [],
   "source": [
    "train_recall_score_global = {\"Logistic Regression\": lr_model.best_score_, \"Decision Tree\": dt_model.best_score_, \"Random Forest\": rf_model.best_score_}\n",
    "# test_recall_score_global = {\"Logistic Regression\": lr_recall, \"Decision Tree\": dt_recall, \"Random Forest\": rf_recall, \"SVC\": svc_recall}"
   ]
  },
  {
   "cell_type": "code",
   "execution_count": 36,
   "metadata": {},
   "outputs": [
    {
     "name": "stdout",
     "output_type": "stream",
     "text": [
      "{'Decision Tree': 0.7644501278772379,\n",
      " 'Logistic Regression': 0.6364023870417732,\n",
      " 'Random Forest': 0.7935635123614663}\n"
     ]
    }
   ],
   "source": [
    "pprint(train_recall_score_global)"
   ]
  },
  {
   "cell_type": "code",
   "execution_count": 41,
   "metadata": {},
   "outputs": [
    {
     "data": {
      "image/png": "[encoded data removed]",
      "text/plain": [
       "<Figure size 640x480 with 1 Axes>"
      ]
     },
     "metadata": {},
     "output_type": "display_data"
    }
   ],
   "source": [
    "plt.bar(train_recall_score_global.keys(), train_recall_score_global.values(), color=[\"g\", \"r\", \"b\"])\n",
    "plt.show()"
   ]
  },
  {
   "cell_type": "code",
   "execution_count": null,
   "metadata": {},
   "outputs": [],
   "source": []
  }
 ],
 "metadata": {
  "colab": {
   "collapsed_sections": [],
   "provenance": []
  },
  "kernelspec": {
   "display_name": "Python 3 (ipykernel)",
   "language": "python",
   "name": "python3"
  },
  "language_info": {
   "codemirror_mode": {
    "name": "ipython",
    "version": 3
   },
   "file_extension": ".py",
   "mimetype": "text/x-python",
   "name": "python",
   "nbconvert_exporter": "python",
   "pygments_lexer": "ipython3",
   "version": "3.9.15"
  }
 },
 "nbformat": 4,
 "nbformat_minor": 1
}
